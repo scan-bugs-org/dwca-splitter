{
 "cells": [
  {
   "cell_type": "code",
   "execution_count": 11,
   "metadata": {},
   "outputs": [],
   "source": [
    "import pandas as pd\n",
    "import numpy as np\n",
    "\n",
    "from dwca.read import DwCAReader\n",
    "from os import getcwd, path, mkdir\n",
    "from shutil import rmtree\n",
    "from IPython.display import display, HTML\n",
    "from xml.etree import ElementTree\n",
    "from zipfile import ZipFile, ZIP_DEFLATED\n",
    "from csv import QUOTE_ALL"
   ]
  },
  {
   "cell_type": "code",
   "execution_count": 2,
   "metadata": {},
   "outputs": [],
   "source": [
    "DWCA_FILE = \"scan-arthropods-dwca.zip\"\n",
    "TMP_DIR = path.join(getcwd(), \".tmp\")\n",
    "\n",
    "FILE_NAME_PREFIX = \"{}\".format(DWCA_FILE.strip(\".zip\"))\n",
    "DIR_NAME = FILE_NAME_PREFIX\n",
    "\n",
    "def get_idx_fmt(current_idx: int, total_idx: int):\n",
    "    num_len = len(str(total_idx))\n",
    "    num_fmt = \"{{:0{}d}}\".format(num_len)\n",
    "    return num_fmt.format(current_idx)"
   ]
  },
  {
   "cell_type": "code",
   "execution_count": 4,
   "metadata": {},
   "outputs": [],
   "source": [
    "dwca = DwCAReader(DWCA_FILE, tmp_dir=TMP_DIR)\n",
    "\n",
    "dwca_meta = dwca.metadata\n",
    "dwca_descriptor = dwca.descriptor"
   ]
  },
  {
   "cell_type": "code",
   "execution_count": 5,
   "metadata": {},
   "outputs": [],
   "source": [
    "core_file = dwca_descriptor.core.file_location\n",
    "core_df = dwca.pd_read(core_file, parse_dates=True)\n",
    "# core_df.head()"
   ]
  },
  {
   "cell_type": "code",
   "execution_count": 6,
   "metadata": {},
   "outputs": [],
   "source": [
    "NUM_FILES = 10\n",
    "DF_LEN = len(core_df)\n",
    "CHUNK_SIZE = DF_LEN // NUM_FILES"
   ]
  },
  {
   "cell_type": "code",
   "execution_count": null,
   "metadata": {},
   "outputs": [
    {
     "name": "stdout",
     "output_type": "stream",
     "text": [
      "Creating scan-arthropods-dwca_00/...\n",
      "Writing scan-arthropods-dwca_00/observations.csv....\n",
      "Writing scan-arthropods-dwca_00/media.csv...\n",
      "Writing scan-arthropods-dwca_00/metadata.eml.xml...\n",
      "Writing scan-arthropods-dwca_00/meta.xml...\n",
      "Compressing scan-arthropods-dwca_00.zip...\n",
      "\n",
      "Creating scan-arthropods-dwca_01/...\n",
      "Writing scan-arthropods-dwca_01/observations.csv....\n",
      "Writing scan-arthropods-dwca_01/media.csv...\n",
      "Writing scan-arthropods-dwca_01/metadata.eml.xml...\n",
      "Writing scan-arthropods-dwca_01/meta.xml...\n",
      "Compressing scan-arthropods-dwca_01.zip...\n",
      "\n",
      "Creating scan-arthropods-dwca_02/...\n",
      "Writing scan-arthropods-dwca_02/observations.csv....\n"
     ]
    }
   ],
   "source": [
    "records_saved = 0\n",
    "\n",
    "for idx, chunk in core_df.groupby(np.arange(DF_LEN) // CHUNK_SIZE):\n",
    "    dwca_dir = \"{}_{}\".format(FILE_NAME_PREFIX, get_idx_fmt(idx, NUM_FILES))\n",
    "    dwca_files = list()\n",
    "    \n",
    "    if path.exists(dwca_dir):\n",
    "        rmtree(dwca_dir)\n",
    "        \n",
    "    print(\"Creating {}/...\".format(dwca_dir))\n",
    "    mkdir(dwca_dir)\n",
    "    \n",
    "    core_file_path = path.join(dwca_dir, dwca.descriptor.core.file_location)\n",
    "    \n",
    "    print(\"Writing {}....\".format(core_file_path))\n",
    "    field_term = dwca_descriptor.core.fields_terminated_by\n",
    "    field_enclose = dwca_descriptor.core.fields_enclosed_by\n",
    "    line_sep = dwca_descriptor.core.lines_terminated_by\n",
    "    \n",
    "    chunk.to_csv(\n",
    "        core_file_path, \n",
    "        index=False, \n",
    "        sep=field_term,\n",
    "        quotechar=field_enclose,\n",
    "        line_terminator=line_sep,\n",
    "        quoting=QUOTE_ALL\n",
    "    )\n",
    "    dwca_files.append(core_file_path)\n",
    "\n",
    "    records_saved += len(chunk)\n",
    "    \n",
    "    for e in dwca_descriptor.extensions:\n",
    "        ext_file = e.file_location\n",
    "        ext_field_term = e.fields_terminated_by\n",
    "        ext_field_enclose = e.fields_enclosed_by\n",
    "        ext_line_sep = e.lines_terminated_by\n",
    "        \n",
    "        ext_df = dwca.pd_read(ext_file)\n",
    "        ext_chunk = ext_df[ext_df[\"coreid\"].isin(chunk[\"id\"])]\n",
    "        ext_file_path = path.join(dwca_dir, ext_file)\n",
    "        \n",
    "        print(\"Writing {}...\".format(ext_file_path))\n",
    "        ext_chunk.to_csv(\n",
    "            ext_file_path, \n",
    "            index=False,\n",
    "            sep=field_term,\n",
    "            quotechar=field_enclose,\n",
    "            line_terminator=line_sep,\n",
    "            quoting=QUOTE_ALL\n",
    "        )\n",
    "        dwca_files.append(ext_file_path)\n",
    "\n",
    "    meta_file_path = path.join(dwca_dir, dwca_descriptor.metadata_filename)\n",
    "    desc_file_path = path.join(dwca_dir, \"meta.xml\")\n",
    "    \n",
    "    dwca_files.append(meta_file_path)\n",
    "    dwca_files.append(desc_file_path)\n",
    "    \n",
    "    print(\"Writing {}...\".format(meta_file_path))\n",
    "    with open(meta_file_path, 'w') as f:\n",
    "        f.write(ElementTree.tostring(dwca_meta, encoding=\"unicode\"))\n",
    "    \n",
    "    print(\"Writing {}...\".format(desc_file_path))\n",
    "    with open(desc_file_path, 'w') as f:\n",
    "        f.write(ElementTree.tostring(dwca_descriptor.raw_element, encoding=\"unicode\"))\n",
    "\n",
    "    dwca_file = \"{}.zip\".format(dwca_dir)\n",
    "    print(\"Compressing {}...\".format(dwca_file))\n",
    "    with ZipFile(dwca_file, 'w', compression=ZIP_DEFLATED) as z:\n",
    "        [z.write(f, arcname=f.replace(dwca_dir, \"\")) for f in dwca_files]\n",
    "    \n",
    "    print()\n",
    "    \n",
    "assert records_saved == DF_LEN"
   ]
  },
  {
   "cell_type": "code",
   "execution_count": null,
   "metadata": {},
   "outputs": [],
   "source": [
    "dwca.close()"
   ]
  },
  {
   "cell_type": "code",
   "execution_count": null,
   "metadata": {},
   "outputs": [],
   "source": []
  }
 ],
 "metadata": {
  "kernelspec": {
   "display_name": "Python 3",
   "language": "python",
   "name": "python3"
  },
  "language_info": {
   "codemirror_mode": {
    "name": "ipython",
    "version": 3
   },
   "file_extension": ".py",
   "mimetype": "text/x-python",
   "name": "python",
   "nbconvert_exporter": "python",
   "pygments_lexer": "ipython3",
   "version": "3.8.5"
  }
 },
 "nbformat": 4,
 "nbformat_minor": 2
}
